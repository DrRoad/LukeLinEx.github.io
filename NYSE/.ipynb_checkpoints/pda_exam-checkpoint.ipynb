{
 "cells": [
  {
   "cell_type": "markdown",
   "metadata": {},
   "source": [
    "## Overview\n",
    "\n",
    "We will be using the three datasets:\n",
    "\n",
    "- <a href=https://graderdata.s3.amazonaws.com/securities.txt target=_blank>securities.csv</a>\n",
    "- <a href=https://graderdata.s3.amazonaws.com/fundamentals.txt>fundamentals.csv</a>\n",
    "- <a href=https://graderdata.s3.amazonaws.com/prices-split-adjusted.txt>split adjusted price.csv</a>\n",
    "\n",
    "They were adapted from the webpage <a href=https://www.kaggle.com/dgawlik/nyse target=_blank>New York Stock Exchange</a>, where the original raw data can be found."
   ]
  },
  {
   "cell_type": "markdown",
   "metadata": {},
   "source": [
    "#### Prob 1.  Loading data\n",
    "\n",
    "The csv file of split_adjusted_price.csv is saved in the url:\n",
    "\n",
    "`url_adjusted = 'https://graderdata.s3.amazonaws.com/prices-split-adjusted.csv'`\n",
    "\n",
    "Load the data into a pandas dataframe, make sure that the `date` column is of a proper type."
   ]
  },
  {
   "cell_type": "code",
   "execution_count": null,
   "metadata": {
    "collapsed": true
   },
   "outputs": [],
   "source": [
    "import pandas as pd\n",
    "\n",
    "url_adjusted = 'https://graderdata.s3.amazonaws.com/prices-split-adjusted.csv'\n",
    "\n",
    "### Your code here"
   ]
  },
  {
   "cell_type": "markdown",
   "metadata": {},
   "source": [
    "#### Prob 2. Missing values\n",
    "\n",
    "The dataset `fundamentals` is loaded for you. Find the columns with any missing value."
   ]
  },
  {
   "cell_type": "code",
   "execution_count": null,
   "metadata": {
    "collapsed": true
   },
   "outputs": [],
   "source": [
    "import numpy as np\n",
    "\n",
    "fundamentals = pd.read_csv('https://graderdata.s3.amazonaws.com/fundamentals.csv', index_col=0)\n",
    "\n",
    "\n",
    "#### Your code here"
   ]
  },
  {
   "cell_type": "markdown",
   "metadata": {},
   "source": [
    "#### Prob 3. Aggregating\n",
    "\n",
    "For the `split_adjusted_price` you loaded in Prob 1., aggregate the daily OHLC into monthly OHLC."
   ]
  },
  {
   "cell_type": "code",
   "execution_count": null,
   "metadata": {
    "collapsed": true
   },
   "outputs": [],
   "source": [
    "#### Your code here"
   ]
  },
  {
   "cell_type": "markdown",
   "metadata": {},
   "source": [
    "#### Prob 4. String operation\n",
    "\n",
    "From the column `Address of Headquarters` in the data frame `securities`, find the state/country/territory where the headquarter of each company locates.\n",
    "\n",
    "**Hint**: Here are some examples of territories that is desired:\n",
    "```\n",
    "St. Paul, Minnesota -->  Minnesota\n",
    "Dublin, Ireland     -->  Ireland\n",
    "Hamilton, Bermuda   -->  Bermuda\n",
    "```\n",
    "This is a simple question testing you in string operations. You might find different notations for the same state (There are some observations with `New York` and other with `NY`), but for this question, you **DO NOT** need to take care of that."
   ]
  },
  {
   "cell_type": "code",
   "execution_count": null,
   "metadata": {
    "collapsed": true
   },
   "outputs": [],
   "source": [
    "securities = pd.read_csv('https://graderdata.s3.amazonaws.com/securities.csv')\n",
    "\n",
    "#### Your code here"
   ]
  },
  {
   "cell_type": "markdown",
   "metadata": {},
   "source": [
    "#### Prob 5. Return\n",
    "\n",
    "Define the **daily return** by:\n",
    "\n",
    "$$\\frac{ \\text{close} - \\text{previous close} }{\\text{previous close}}$$.\n",
    "\n",
    "The code below:\n",
    "```\n",
    "tmp = split_adjusted_price[['date', 'symbol', 'close']].sort_values(['symbol', 'date'])\n",
    "price = tmp.iloc[1:]\n",
    "price = price.assign(prev_close= tmp['close'].iloc[:-1].values)\n",
    "price = price.assign(prev_symbol= tmp['symbol'].iloc[:-1].values)\n",
    "```\n",
    "create a new data frame `price`, of which each row contains the previous close price. \n",
    "\n",
    "\n",
    "Notice that we include the column `prev_symbol` (which is the symbol of the previous price), to deal with the case that the previous price is for a different symbol (see the third row below):\n",
    "\n",
    "```\n",
    "             date symbol      close  prev_close prev_symbol\n",
    "850752 2016-12-29   XLNX  60.740002   60.630001        XLNX\n",
    "851252 2016-12-30   XLNX  60.369999   60.740002        XLNX\n",
    "710    2010-01-04    XOM  69.150002   60.369999        XLNX\n",
    "1178   2010-01-05    XOM  69.419998   69.150002         XOM\n",
    "1646   2010-01-06    XOM  70.019997   69.419998         XOM\n",
    "```\n",
    "\n",
    "Create a new column, `daily_return `. The expected result is:\n",
    "\n",
    "```\n",
    "             date symbol  daily_return\n",
    "718    2010-01-05      A     -0.010863\n",
    "1186   2010-01-06      A     -0.003553\n",
    "1654   2010-01-07      A     -0.001297\n",
    "...           ...    ...           ...\n",
    "850261 2016-12-28    ZTS     -0.005212\n",
    "850761 2016-12-29    ZTS      0.003368\n",
    "851261 2016-12-30    ZTS     -0.001678\n",
    "```\n",
    "\n",
    "As you might suspect, the indexes are irrelevant here."
   ]
  },
  {
   "cell_type": "code",
   "execution_count": null,
   "metadata": {
    "collapsed": true
   },
   "outputs": [],
   "source": [
    "#### Preparing the price data frame\n",
    "\n",
    "tmp = split_adjusted_price[['date', 'symbol', 'close']].sort_values(['symbol', 'date'])\n",
    "price = tmp.iloc[1:]\n",
    "price = price.assign(prev_close= tmp['close'].iloc[:-1].values)\n",
    "price = price.assign(prev_symbol= tmp['symbol'].iloc[:-1].values)\n",
    "\n",
    "#### Your code here"
   ]
  },
  {
   "cell_type": "markdown",
   "metadata": {},
   "source": [
    "#### Prob 6. Merge\n",
    "\n",
    "Inner join `fundamentals` and `securities` by the ticker symbols. Save the result as an variable, you will need it for the latter problem."
   ]
  },
  {
   "cell_type": "code",
   "execution_count": null,
   "metadata": {
    "collapsed": true
   },
   "outputs": [],
   "source": [
    "#### Your code here"
   ]
  },
  {
   "cell_type": "markdown",
   "metadata": {},
   "source": [
    "#### Prob 7. Grouping and aggregation\n",
    "\n",
    "From the merged data frame from Prob 6., find the `GICS Sector` with the highest average `After Tax ROE`."
   ]
  },
  {
   "cell_type": "code",
   "execution_count": null,
   "metadata": {
    "collapsed": true
   },
   "outputs": [],
   "source": [
    "#### Your code here"
   ]
  }
 ],
 "metadata": {
  "anaconda-cloud": {},
  "kernelspec": {
   "display_name": "Python [Root]",
   "language": "python",
   "name": "Python [Root]"
  },
  "language_info": {
   "codemirror_mode": {
    "name": "ipython",
    "version": 2
   },
   "file_extension": ".py",
   "mimetype": "text/x-python",
   "name": "python",
   "nbconvert_exporter": "python",
   "pygments_lexer": "ipython2",
   "version": "2.7.12"
  }
 },
 "nbformat": 4,
 "nbformat_minor": 0
}
