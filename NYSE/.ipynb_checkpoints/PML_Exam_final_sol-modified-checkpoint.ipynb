{
 "cells": [
  {
   "cell_type": "markdown",
   "metadata": {},
   "source": [
    "## Overview\n",
    "\n",
    "The dataset  we will be using in this  exam is adapted from <a href=https://www.kaggle.com/dgawlik/nyse target=_blank>New York Stock Exchange</a>, where the original raw data can be found."
   ]
  },
  {
   "cell_type": "markdown",
   "metadata": {},
   "source": [
    "#### Prob 1. Redundancy\n",
    "\n",
    "Among the columns in the data frame <a href=https://graderdata.s3.amazonaws.com/securities.txt target=_blank>securities</a>, one of them would be helpless as an independent variable for any kind of supervised learning. Which one is it and why?"
   ]
  },
  {
   "cell_type": "code",
   "execution_count": 1,
   "metadata": {
    "collapsed": false
   },
   "outputs": [
    {
     "name": "stdout",
     "output_type": "stream",
     "text": [
      "['SEC filings']\n",
      "\n",
      "\n",
      "0    reports\n",
      "1    reports\n",
      "2    reports\n",
      "3    reports\n",
      "4    reports\n",
      "Name: SEC filings, dtype: object\n"
     ]
    }
   ],
   "source": [
    "import pandas as pd\n",
    "securities = pd.read_csv('https://graderdata.s3.amazonaws.com/securities.csv')\n",
    "\n",
    "### Your code here\n",
    "\n",
    "### This prints out any constant column\n",
    "print filter(lambda col: len(set(securities[col]))==1, securities)  \n",
    "print '\\n'\n",
    "print securities['SEC filings'].head()"
   ]
  },
  {
   "cell_type": "markdown",
   "metadata": {},
   "source": [
    "### Prob 2. Sampling\n",
    "\n",
    "#### Introduction \n",
    "(**You may skip and read the actual problem below**)<br>\n",
    "For each company, we would like to predict its <a href=https://en.wikipedia.org/wiki/Global_Industry_Classification_Standard target =_blank>GICS sector</a> (which is recorded in a column in the data frame <a href=https://graderdata.s3.amazonaws.com/securities.txt target=_blank>securities</a>) based on the <a href=https://graderdata.s3.amazonaws.com/fundamentals.txt>fundamentals</a>.\n",
    "\n",
    "For simplicity we clean the data with the following process:\n",
    "- Removed the columns with any missing value: `['Cash Ratio', 'Quick Ratio', 'Current Ratio', 'Estimated Shares Outstanding', 'Earnings Per Share', 'For Year']` from <a href=https://graderdata.s3.amazonaws.com/fundamentals.txt>fundamentals</a>.\n",
    "- Removed the column `Period End`, grouped the data by `Ticker Symbol` and then took the average of all the numerical columns from the data frame from the previous step.\n",
    "- Normalized the columns from the previous step.\n",
    "- Inserted the `GICS Sector` from <a href=https://graderdata.s3.amazonaws.com/securities.txt target=_blank>securities</a> to the data frame from the previous step.\n",
    "\n",
    "The resulted data frame is <a href =https://graderdata.s3.amazonaws.com/nyse_data.txt target=_blank>nyse_data</a>.\n",
    "\n",
    "---\n",
    "\n",
    "\n",
    "#### Problem\n",
    "We would like to hold out part of the <a href =https://graderdata.s3.amazonaws.com/nyse_data.txt target=_blank>nyse_data</a> as the test dataset with the function `train_test_split`. We would like to:\n",
    "- hold out **20%** of the observations as test dataset. \n",
    "- make sure that the **distribution of the labels `y_train` and `y_test` to be as identical as possible**. \n",
    "\n",
    "Fill in the code below to split the data properly."
   ]
  },
  {
   "cell_type": "code",
   "execution_count": 1,
   "metadata": {
    "collapsed": false
   },
   "outputs": [],
   "source": [
    "import pandas as pd\n",
    "from sklearn.model_selection import train_test_split\n",
    "\n",
    "nyse_data = pd.read_csv('https://graderdata.s3.amazonaws.com/nyse_data.csv', index_col=0)\n",
    "X = nyse_data.iloc[:,:-1]\n",
    "y = nyse_data.iloc[:,-1]\n",
    "\n",
    "X_train, X_test, y_train, y_test = train_test_split(X, y, \n",
    "                                                    ### fill in your code here\n",
    "                                                    test_size=0.2, \n",
    "                                                    stratify=y,\n",
    "                                                    random_state=1)"
   ]
  },
  {
   "cell_type": "markdown",
   "metadata": {},
   "source": [
    "## Prob 3. Tune Random Forest Models\n",
    "\n",
    "With the training set and test set we obtained in the previous question, we would like to tune a random forest model to predict `GICS sector`. Fill the code below to test the parameters:\n",
    "\n",
    "- `max_depth: [10, 20]`\n",
    "- `n_estimators: [100, 500]`\n",
    "\n",
    "Tune the model and print the score on the test set.\n",
    "\n",
    "**Note**: You may assume that `X_train, X_test, y_train` and `y_test` have been created."
   ]
  },
  {
   "cell_type": "code",
   "execution_count": 107,
   "metadata": {
    "collapsed": false
   },
   "outputs": [
    {
     "name": "stdout",
     "output_type": "stream",
     "text": [
      "0.6\n"
     ]
    }
   ],
   "source": [
    "import pandas as pd\n",
    "from numpy import random\n",
    "from sklearn.model_selection import train_test_split\n",
    "from sklearn.model_selection import StratifiedKFold\n",
    "from sklearn.model_selection import GridSearchCV\n",
    "from sklearn.ensemble import RandomForestClassifier\n",
    "\n",
    "nyse_data = pd.read_csv('https://graderdata.s3.amazonaws.com/nyse_data.csv', index_col=0)\n",
    "X = nyse_data.iloc[:,:-1]\n",
    "y = nyse_data.iloc[:,-1]\n",
    "\n",
    "X_train, X_test, y_train, y_test = train_test_split(X, y, \n",
    "                                                    test_size=0.2, \n",
    "                                                    stratify=y,\n",
    "                                                    random_state=1)\n",
    "\n",
    "sk4 = StratifiedKFold()\n",
    "rf = RandomForestClassifier()\n",
    "\n",
    "### Create your grid here\n",
    "params =  {'max_depth':[10, 20],\n",
    "           'n_estimators': [100, 500]}\n",
    "\n",
    "### Your code here\n",
    "cv_rf = GridSearchCV(rf, param_grid=params, cv=sk4) \n",
    "cv_rf.fit(X_train, y_train)                         \n",
    "print cv_rf.score(X_test, y_test)"
   ]
  },
  {
   "cell_type": "code",
   "execution_count": 113,
   "metadata": {
    "collapsed": false
   },
   "outputs": [
    {
     "data": {
      "text/plain": [
       "[('Research and Development', 0.041163301424532395),\n",
       " ('Total Current Liabilities', 0.030091428078418123),\n",
       " ('Total Current Assets', 0.027775919073179972),\n",
       " ('Other Current Assets', 0.026933536409992437),\n",
       " ('Fixed Assets', 0.024775363319281499),\n",
       " ('Deferred Liability Charges', 0.023568698730274718),\n",
       " ('Changes in Inventories', 0.02320980545889061),\n",
       " ('Inventory', 0.02294828893515654),\n",
       " ('Capital Expenditures', 0.022006758159882272),\n",
       " ('Other Equity', 0.02103275172387644),\n",
       " ('Long-Term Investments', 0.020366254122512015),\n",
       " ('Other Assets', 0.020347745803005194),\n",
       " ('Sale and Purchase of Stock', 0.019195019089299582),\n",
       " ('Other Operating Items', 0.018591549458779971),\n",
       " ('Profit Margin', 0.018334316647210254),\n",
       " ('Other Investing Activities', 0.016614219687795442),\n",
       " ('Sales, General and Admin.', 0.01609538540107016),\n",
       " ('Other Current Liabilities', 0.01598847449285486),\n",
       " ('Gross Margin', 0.015795338879110971),\n",
       " ('Intangible Assets', 0.015256935679525211),\n",
       " ('Net Cash Flows-Investing', 0.015243939717904139),\n",
       " ('Other Liabilities', 0.01516248466145788),\n",
       " ('Short-Term Investments', 0.015149115174083676),\n",
       " ('Income Tax', 0.015089364841400301),\n",
       " ('Cost of Revenue', 0.014913845001401261),\n",
       " ('Pre-Tax ROE', 0.014718972030510718),\n",
       " ('Gross Profit', 0.014337109612413865),\n",
       " ('Cash and Cash Equivalents', 0.013861016497696652),\n",
       " ('Short-Term Debt / Current Portion of Long-Term Debt', 0.013791850391162618),\n",
       " ('Accounts Receivable', 0.013779154983517259),\n",
       " ('Retained Earnings', 0.013587020124750481),\n",
       " ('Net Income Adjustments', 0.01354762032674634),\n",
       " ('Non-Recurring Items', 0.013539754876056421),\n",
       " ('Net Receivables', 0.01343026292751425),\n",
       " ('After Tax ROE', 0.013297918748719738),\n",
       " ('Interest Expense', 0.01306046302230717),\n",
       " ('Minority Interest', 0.012610645847273677),\n",
       " ('Liabilities', 0.012597936057910854),\n",
       " (\"Add'l income/expense items\", 0.012353339188145861),\n",
       " ('Total Revenue', 0.012268355678098536),\n",
       " ('Operating Margin', 0.012260902997594449),\n",
       " ('Other Financing Activities', 0.011937504037658255),\n",
       " ('Pre-Tax Margin', 0.011858527377411616),\n",
       " ('Goodwill', 0.011577505714628258),\n",
       " ('Total Liabilities', 0.011542653034980015),\n",
       " ('Total Liabilities & Equity', 0.011498846140074879),\n",
       " ('Depreciation', 0.011163837602738959),\n",
       " ('Net Cash Flows-Financing', 0.010968768990734833),\n",
       " ('Long-Term Debt', 0.010562915075404937),\n",
       " ('Other Operating Activities', 0.010476726565036542),\n",
       " ('Earnings Before Tax', 0.01030356570438523),\n",
       " ('Total Assets', 0.010118707921832649),\n",
       " ('Capital Surplus', 0.009903537176144811),\n",
       " ('Effect of Exchange Rate', 0.009727131802779938),\n",
       " ('Common Stocks', 0.0096580378753224252),\n",
       " ('Operating Income', 0.0094519104290403892),\n",
       " ('Net Income-Cont. Operations', 0.0091463845199307049),\n",
       " ('Accounts Payable', 0.0089977777402369761),\n",
       " ('Treasury Stock', 0.0089603433634782882),\n",
       " ('Total Equity', 0.0089461499024146504),\n",
       " ('Investments', 0.0087779005189299666),\n",
       " ('Net Cash Flow', 0.008608756710688989),\n",
       " ('Earnings Before Interest and Tax', 0.0082992648386220527),\n",
       " ('Net Income', 0.0082422450800839781),\n",
       " ('Net Cash Flow-Operating', 0.0081057568259470993),\n",
       " ('Net Income Applicable to Common Shareholders', 0.0080158382650055825),\n",
       " ('Net Borrowings', 0.0079713335566984934),\n",
       " ('Equity Earnings/Loss Unconsolidated Subsidiary', 0.006252877025403801),\n",
       " ('Deferred Asset Charges', 0.0060661828227144589),\n",
       " ('Misc. Stocks', 0.0041668501003564486)]"
      ]
     },
     "execution_count": 113,
     "metadata": {},
     "output_type": "execute_result"
    }
   ],
   "source": [
    "sorted(\n",
    "    zip(X_train.columns.values, \n",
    "        cv_rf.best_estimator_.feature_importances_),\n",
    "    key = lambda x: -x[1])"
   ]
  },
  {
   "cell_type": "markdown",
   "metadata": {},
   "source": [
    "### Prob 4.  Lasso regression\n",
    "\n",
    "Again, we would like to predict its <a href=https://en.wikipedia.org/wiki/Global_Industry_Classification_Standard target =_blank>GICS sector</a> (which is recorded in a column in the data frame <a href=https://graderdata.s3.amazonaws.com/securities.txt target=_blank>securities</a>) based on the <a href=https://graderdata.s3.amazonaws.com/fundamentals.txt>fundamentals</a>.\n",
    "\n",
    "We train a lasso model with the penalty constant 10, as the code below. Which variables (there are more than one) eventually make no contribution to the prediction?\n",
    "\n",
    "**Note**: You may write the actual column names or write the code to return those columns as your answer."
   ]
  },
  {
   "cell_type": "code",
   "execution_count": 1,
   "metadata": {
    "collapsed": false
   },
   "outputs": [
    {
     "data": {
      "text/plain": [
       "[('Long-Term Investments', 0.0),\n",
       " ('Other Current Liabilities', 0.0),\n",
       " ('Total Assets', 0.0),\n",
       " ('Total Liabilities & Equity', 0.0)]"
      ]
     },
     "execution_count": 1,
     "metadata": {},
     "output_type": "execute_result"
    }
   ],
   "source": [
    "import numpy as np\n",
    "import pandas as pd\n",
    "from sklearn.linear_model import LogisticRegression\n",
    "from sklearn.model_selection import train_test_split\n",
    "\n",
    "nyse_data = pd.read_csv('https://graderdata.s3.amazonaws.com/nyse_data.csv', index_col=0)\n",
    "X = nyse_data.iloc[:,:-1]; y = nyse_data.iloc[:,-1]\n",
    "X_train, X_test, y_train, y_test = train_test_split(X, y, \n",
    "                                                    test_size=0.2, \n",
    "                                                    stratify=y,\n",
    "                                                    random_state=1)\n",
    "\n",
    "logit = LogisticRegression(penalty='l1', C=10)\n",
    "logit.fit(X_train, y_train)\n",
    "\n",
    "### YOur answer here\n",
    "filter(lambda x: x[1]==0,\n",
    "       zip(X.columns, np.sum(np.abs(logit.coef_), axis=0)))"
   ]
  },
  {
   "cell_type": "markdown",
   "metadata": {},
   "source": [
    "### Prob 5. PCA\n",
    "\n",
    "We would like to apply principal component analysis (pca) on the numerical columns of the <a href=https://graderdata.s3.amazonaws.com/fundamentals.txt>fundamentals dataset</a>. Again we remove categorical columns and the columns with missing values and then perform pca.\n",
    "\n",
    "We do it with the code below:\n",
    "```python\n",
    "import pandas as pd\n",
    "import matplotlib.pyplot as plt\n",
    "from sklearn.decomposition import PCA\n",
    "%matplotlib inline\n",
    "\n",
    "fundamentals = pd.read_csv('https://graderdata.s3.amazonaws.com/fundamentals.csv',index_col=0).set_index('Ticker Symbol')\n",
    "to_be_removed = ['Period Ending','Cash Ratio', 'Quick Ratio', \n",
    "                 'Current Ratio', 'Estimated Shares Outstanding', \n",
    "                 'Earnings Per Share', 'For Year']\n",
    "X_train = fundamentals[filter(lambda col: col not in to_be_removed, fundamentals)]\n",
    "\n",
    "pca = PCA(n_components=10)\n",
    "pca.fit(X_train)\n",
    "plt.plot(range(10), pca.explained_variance_ratio_)\n",
    "```\n",
    "and we end up with:\n",
    "\n",
    "<img src=https://s3.amazonaws.com/graderdata/pca_not_normalized.png>\n",
    "\n",
    "Is there any problem with the steep drop in the ratio of variance explained? How could we modify it?\n",
    "\n",
    "\n",
    "- **A)** There is no problem.\n",
    "- **B)** There redundancy in the data is overwhelming. We should remove more columns before applying pca.\n",
    "- **C)** The missing values removed disturb the distribution of the data. We should impute the missing values instead.\n",
    "- **D)** The range of different columns vary too much. We should normalize/standardize before applying pca."
   ]
  },
  {
   "cell_type": "code",
   "execution_count": null,
   "metadata": {
    "collapsed": true
   },
   "outputs": [],
   "source": [
    "#### Your answer here\n",
    "\n",
    "Ans = 'D'"
   ]
  },
  {
   "cell_type": "markdown",
   "metadata": {},
   "source": [
    "### Prob 6 PCA (Continue)\n",
    "\n",
    "Fix the problem we saw in the last question, and then perform PCA with 10 components on the data. Save the transform data as `pc`.\n",
    "\n",
    "If your data is transformed correctly, the code\n",
    "\n",
    "```python\n",
    "factor_plot(pc, comp1 = 0, comp2 = 2)\n",
    "```\n",
    "\n",
    "function should generate the plot below to you.\n",
    "\n",
    "<img src = https://s3-us-west-2.amazonaws.com/nycdatasciecneipynb/factor_plot.png height=480 width=800>\n",
    "\n",
    "**Note**: This visualizes the correlation between each original column and the two principal components. We chose to visualize the first ( `comp1=0`) and the third (` comp2=2`) principal components for better visual effect. You are invited to change `comp1` and `comp2` to see the other principal components."
   ]
  },
  {
   "cell_type": "code",
   "execution_count": 1,
   "metadata": {
    "collapsed": true
   },
   "outputs": [],
   "source": [
    "def factor_plot(pc, comp1=0, comp2=1):\n",
    "    cor_pc1 = map(lambda col: np.corrcoef(X_train[col], pc[:,comp1])[0,1], X_train)\n",
    "    cor_pc2 = map(lambda col: np.corrcoef(X_train[col], pc[:,comp2])[0,1], X_train)\n",
    "    col_names = map(lambda col: col, X_train)\n",
    "\n",
    "    fig = plt.figure(figsize=(20,10))\n",
    "    plt.scatter(cor_pc1, cor_pc2)\n",
    "\n",
    "    plt.xlim(None, 1.5)\n",
    "    plt.xlabel('Correlation with the first principal component', fontsize=17)\n",
    "    plt.ylabel('Correlation with the third principal component', fontsize=17)\n",
    "    for col, x, y in sorted(zip(col_names, cor_pc1, cor_pc2), key=lambda x: -x[1])[:3]:\n",
    "        plt.text(x, y, col, size=15)\n",
    "        plt.scatter(x, y, c='r', s =50)\n",
    "    \n",
    "    for col, x, y in sorted(zip(col_names, cor_pc1, cor_pc2), key=lambda x: -x[2])[:3]:\n",
    "        plt.text(x, y, col, size=15, rotation=0)\n",
    "        plt.scatter(x, y, c='r', s =50)"
   ]
  },
  {
   "cell_type": "code",
   "execution_count": 2,
   "metadata": {
    "collapsed": false
   },
   "outputs": [
    {
     "data": {
      "image/png": "[encoded data removed]",
      "text/plain": [
       "<matplotlib.figure.Figure at 0x11a28cbd0>"
      ]
     },
     "metadata": {},
     "output_type": "display_data"
    }
   ],
   "source": [
    "import numpy as np\n",
    "import pandas as pd\n",
    "import matplotlib.pyplot as plt\n",
    "from sklearn.decomposition import PCA\n",
    "%matplotlib inline\n",
    "\n",
    "fundamentals = pd.read_csv('https://graderdata.s3.amazonaws.com/fundamentals.csv',index_col=0).set_index('Ticker Symbol')\n",
    "\n",
    "to_be_removed = ['Period Ending','Cash Ratio', 'Quick Ratio', \n",
    "                 'Current Ratio', 'Estimated Shares Outstanding', \n",
    "                 'Earnings Per Share', 'For Year']\n",
    "\n",
    "\n",
    "#### Your code here\n",
    "X_train = fundamentals[filter(lambda col: col not in to_be_removed, fundamentals)]\n",
    "\n",
    "X_train = (X_train - X_train.mean())/X_train.std()\n",
    "\n",
    "\n",
    "pca = PCA(n_components=10)\n",
    "pc = pca.fit_transform(X_train)\n",
    "\n",
    "#### This part plots\n",
    "factor_plot(pc, 0, 2)"
   ]
  },
  {
   "cell_type": "markdown",
   "metadata": {},
   "source": [
    "## Prob 7. Simple linear regression\n",
    "\n",
    "It seems reasonable that companies perform better in profit also perform better in stock price. We combine <a href=https://graderdata.s3.amazonaws.com/fundamentals.txt>fundamentals</a> and the <a href=https://graderdata.s3.amazonaws.com/prices-split-adjusted.txt>split adjusted price</a>. With some manipulation we obtain the data frame with `Return` and `Earnings Per Share` (EPS) for each stock in a particular period. Part of the data is as below:\n",
    "\n",
    "```\n",
    "                                  Return  Earnings Per Share\n",
    "symbol Period Start Period End                              \n",
    "AAL    2012-12-31   2013-12-31  0.003199              -11.25\n",
    "       2013-12-31   2014-12-31  0.004424                4.02\n",
    "       2014-12-31   2015-12-31 -0.000851               11.39\n",
    "AAP    2012-12-29   2013-12-28  0.002069                5.36\n",
    "       2013-12-28   2015-01-03  0.001750                6.75\n",
    "       2015-01-03   2016-01-02 -0.000152                6.45\n",
    "AAPL   2013-09-28   2014-09-27  0.001910                6.49\n",
    "       2014-09-27   2015-09-26  0.000581                9.28\n",
    "       2015-09-26   2016-09-24  0.000010                8.35\n",
    "```\n",
    "\n",
    "Regress the `Return` on `Earnings Per Share`  with `sklearn`. \n",
    "\n",
    "If you trained your model correctly, thecode below:\n",
    "\n",
    "```python\n",
    "plt.ylim(-0.002, 0.002)\n",
    "plt.xlim(-0.005, 0.006)\n",
    "plt.scatter(y, lm.predict(x), alpha=0.3)\n",
    "plt.xlabel('The actual Return', fontsize=12)\n",
    "plt.ylabel('EPS', fontsize=12)\n",
    "```\n",
    "\n",
    "should generate the plot:\n",
    "\n",
    "<img src=https://s3.amazonaws.com/graderdata/actual_value_against_predicted.png>"
   ]
  },
  {
   "cell_type": "code",
   "execution_count": 14,
   "metadata": {
    "collapsed": false
   },
   "outputs": [
    {
     "data": {
      "text/plain": [
       "<matplotlib.text.Text at 0x120525410>"
      ]
     },
     "execution_count": 14,
     "metadata": {},
     "output_type": "execute_result"
    },
    {
     "data": {
      "image/png": "[encoded data removed]",
      "text/plain": [
       "<matplotlib.figure.Figure at 0x12004d050>"
      ]
     },
     "metadata": {},
     "output_type": "display_data"
    }
   ],
   "source": [
    "import pandas as pd\n",
    "import matplotlib.pyplot as plt\n",
    "%matplotlib inline\n",
    "from sklearn.linear_model import LinearRegression\n",
    "\n",
    "return_EPS = pd.read_csv('https://graderdata.s3.amazonaws.com/return_EPS.csv', index_col=[0, 1, 2])\n",
    "\n",
    "x = return_EPS[['Earnings Per Share']]\n",
    "y = return_EPS['Return']\n",
    "\n",
    "### Your code here\n",
    "lm = LinearRegression()\n",
    "lm.fit(x, y)\n",
    "\n",
    "\n",
    "### This part plots\n",
    "plt.ylim(-0.002, 0.002)\n",
    "plt.xlim(-0.005, 0.006)\n",
    "plt.scatter(y, lm.predict(x), alpha=0.3)\n",
    "plt.xlabel('The actual Return', fontsize=12)\n",
    "plt.ylabel('EPS', fontsize=12)"
   ]
  },
  {
   "cell_type": "markdown",
   "metadata": {},
   "source": [
    "### Prob 8. KMeans\n",
    "\n",
    "With the numerical columns of the <a href =https://graderdata.s3.amazonaws.com/nyse_data.txt target=_blank>nyse_data</a> dataset, write code to perform KMeans clustering with 20 clusters. \n",
    "\n",
    "\n",
    "The function `visualize_kmeans` below visualizes the most frequent clusters. If you have a correct cluster, the visualization of the 3 most frequent labels on the columns, `Total Equity` and `Cost of Revenue` should be as below:\n",
    "\n",
    "<img src=https://s3.amazonaws.com/graderdata/kmeans.png>"
   ]
  },
  {
   "cell_type": "code",
   "execution_count": 15,
   "metadata": {
    "collapsed": false
   },
   "outputs": [],
   "source": [
    "%matplotlib inline\n",
    "import matplotlib\n",
    "from scipy.stats import itemfreq\n",
    "\n",
    "def visualize_kmeans(upb, col1, col2):\n",
    "    lab = map(lambda x: x[0], sorted(itemfreq(k1.labels_), key=lambda x: -x[1])[:upb])\n",
    "    dic = dict(zip(lab, matplotlib.colors.cnames.keys()[:upb] ))\n",
    "    idx = map(lambda x: x in lab, k1.labels_)\n",
    "    tmp = X_train.loc[idx]\n",
    "\n",
    "    if (upb, col1, col2) == (3, 'Total Equity', 'Cost of Revenue'):\n",
    "        plt.xlim(-.6, 1)\n",
    "        plt.ylim(-.5, 1)\n",
    "        \n",
    "    plt.scatter(tmp[col1], tmp[col2],\n",
    "                c = map(lambda x: dic[x], k1.labels_[idx]), \n",
    "                alpha=0.3)\n",
    "    plt.xlabel(col1)\n",
    "    plt.ylabel(col2)"
   ]
  },
  {
   "cell_type": "code",
   "execution_count": 16,
   "metadata": {
    "collapsed": false
   },
   "outputs": [
    {
     "data": {
      "text/plain": [
       "KMeans(algorithm='auto', copy_x=True, init='k-means++', max_iter=300,\n",
       "    n_clusters=20, n_init=10, n_jobs=1, precompute_distances='auto',\n",
       "    random_state=None, tol=0.0001, verbose=0)"
      ]
     },
     "execution_count": 16,
     "metadata": {},
     "output_type": "execute_result"
    }
   ],
   "source": [
    "import pandas as pd\n",
    "import matplotlib.pyplot as plt\n",
    "from sklearn.cluster import KMeans\n",
    "\n",
    "nyse_data = pd.read_csv('https://graderdata.s3.amazonaws.com/nyse_data.csv', index_col=0)\n",
    "X_train = nyse_data.iloc[:,:-1]\n",
    "\n",
    "#### Your code here\n",
    "k1 = KMeans(n_clusters=20)\n",
    "k1.fit(X_train)"
   ]
  },
  {
   "cell_type": "code",
   "execution_count": 17,
   "metadata": {
    "collapsed": false
   },
   "outputs": [
    {
     "data": {
      "image/png": "[encoded data removed]",
      "text/plain": [
       "<matplotlib.figure.Figure at 0x11b4a8590>"
      ]
     },
     "metadata": {},
     "output_type": "display_data"
    }
   ],
   "source": [
    "visualize_kmeans(3, 'Total Equity', 'Cost of Revenue')"
   ]
  },
  {
   "cell_type": "code",
   "execution_count": 10,
   "metadata": {
    "collapsed": false
   },
   "outputs": [
    {
     "data": {
      "text/plain": [
       "<module 'matplotlib.colors' from '/Users/lukelin/anaconda2/lib/python2.7/site-packages/matplotlib/colors.pyc'>"
      ]
     },
     "execution_count": 10,
     "metadata": {},
     "output_type": "execute_result"
    }
   ],
   "source": [
    "from matplotlib import colors\n",
    "\n",
    "colors"
   ]
  },
  {
   "cell_type": "code",
   "execution_count": 14,
   "metadata": {
    "collapsed": false
   },
   "outputs": [
    {
     "data": {
      "text/plain": [
       "[u'indigo',\n",
       " u'gold',\n",
       " u'hotpink',\n",
       " u'firebrick',\n",
       " u'indianred',\n",
       " u'sage',\n",
       " u'yellow',\n",
       " u'mistyrose',\n",
       " u'darkolivegreen',\n",
       " u'olive',\n",
       " u'darkseagreen',\n",
       " u'pink',\n",
       " u'tomato',\n",
       " u'lightcoral',\n",
       " u'orangered',\n",
       " u'navajowhite',\n",
       " u'lime',\n",
       " u'palegreen',\n",
       " u'darkslategrey',\n",
       " u'greenyellow',\n",
       " u'burlywood',\n",
       " u'seashell',\n",
       " u'mediumspringgreen',\n",
       " u'fuchsia',\n",
       " u'papayawhip',\n",
       " u'blanchedalmond',\n",
       " u'chartreuse',\n",
       " u'dimgray',\n",
       " u'black',\n",
       " u'peachpuff',\n",
       " u'springgreen',\n",
       " u'aquamarine',\n",
       " u'white',\n",
       " u'orange',\n",
       " u'lightsalmon',\n",
       " u'darkslategray',\n",
       " u'brown',\n",
       " u'ivory',\n",
       " u'dodgerblue',\n",
       " u'peru',\n",
       " u'darkgrey',\n",
       " u'lawngreen',\n",
       " u'chocolate',\n",
       " u'crimson',\n",
       " u'forestgreen',\n",
       " u'slateblue',\n",
       " u'lightseagreen',\n",
       " u'cyan',\n",
       " u'mintcream',\n",
       " u'silver',\n",
       " u'antiquewhite',\n",
       " u'mediumorchid',\n",
       " u'skyblue',\n",
       " u'gray',\n",
       " u'darkturquoise',\n",
       " u'goldenrod',\n",
       " u'darkgreen',\n",
       " u'floralwhite',\n",
       " u'darkviolet',\n",
       " u'darkgray',\n",
       " u'moccasin',\n",
       " u'saddlebrown',\n",
       " u'grey',\n",
       " u'darkslateblue',\n",
       " u'lightskyblue',\n",
       " u'lightpink',\n",
       " u'mediumvioletred',\n",
       " u'slategrey',\n",
       " u'red',\n",
       " u'deeppink',\n",
       " u'limegreen',\n",
       " u'darkmagenta',\n",
       " u'palegoldenrod',\n",
       " u'plum',\n",
       " u'turquoise',\n",
       " u'lightgrey',\n",
       " u'lightgoldenrodyellow',\n",
       " u'darkgoldenrod',\n",
       " u'lavender',\n",
       " u'maroon',\n",
       " u'yellowgreen',\n",
       " u'sandybrown',\n",
       " u'thistle',\n",
       " u'violet',\n",
       " u'navy',\n",
       " u'magenta',\n",
       " u'dimgrey',\n",
       " u'tan',\n",
       " u'rosybrown',\n",
       " u'olivedrab',\n",
       " u'blue',\n",
       " u'lightblue',\n",
       " u'ghostwhite',\n",
       " u'honeydew',\n",
       " u'cornflowerblue',\n",
       " u'linen',\n",
       " u'darkblue',\n",
       " u'powderblue',\n",
       " u'seagreen',\n",
       " u'darkkhaki',\n",
       " u'snow',\n",
       " u'sienna',\n",
       " u'mediumblue',\n",
       " u'royalblue',\n",
       " u'lightcyan',\n",
       " u'green',\n",
       " u'mediumpurple',\n",
       " u'midnightblue',\n",
       " u'cornsilk',\n",
       " u'paleturquoise',\n",
       " u'bisque',\n",
       " u'slategray',\n",
       " u'darkcyan',\n",
       " u'khaki',\n",
       " u'wheat',\n",
       " u'teal',\n",
       " u'darkorchid',\n",
       " u'deepskyblue',\n",
       " u'salmon',\n",
       " u'darkred',\n",
       " u'steelblue',\n",
       " u'palevioletred',\n",
       " u'lightslategray',\n",
       " u'aliceblue',\n",
       " u'lightslategrey',\n",
       " u'lightgreen',\n",
       " u'orchid',\n",
       " u'gainsboro',\n",
       " u'mediumseagreen',\n",
       " u'lightgray',\n",
       " u'mediumturquoise',\n",
       " u'darksage',\n",
       " u'lemonchiffon',\n",
       " u'cadetblue',\n",
       " u'lightyellow',\n",
       " u'lavenderblush',\n",
       " u'coral',\n",
       " u'purple',\n",
       " u'aqua',\n",
       " u'lightsage',\n",
       " u'whitesmoke',\n",
       " u'mediumslateblue',\n",
       " u'darkorange',\n",
       " u'mediumaquamarine',\n",
       " u'darksalmon',\n",
       " u'beige',\n",
       " u'blueviolet',\n",
       " u'azure',\n",
       " u'lightsteelblue',\n",
       " u'oldlace']"
      ]
     },
     "execution_count": 14,
     "metadata": {},
     "output_type": "execute_result"
    }
   ],
   "source": [
    "import matplotlib\n",
    "matplotlib.colors.cnames.keys()"
   ]
  },
  {
   "cell_type": "code",
   "execution_count": null,
   "metadata": {
    "collapsed": true
   },
   "outputs": [],
   "source": []
  }
 ],
 "metadata": {
  "anaconda-cloud": {},
  "kernelspec": {
   "display_name": "Python [Root]",
   "language": "python",
   "name": "Python [Root]"
  },
  "language_info": {
   "codemirror_mode": {
    "name": "ipython",
    "version": 2
   },
   "file_extension": ".py",
   "mimetype": "text/x-python",
   "name": "python",
   "nbconvert_exporter": "python",
   "pygments_lexer": "ipython2",
   "version": "2.7.11"
  }
 },
 "nbformat": 4,
 "nbformat_minor": 0
}
