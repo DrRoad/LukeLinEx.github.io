{
 "cells": [
  {
   "cell_type": "markdown",
   "metadata": {},
   "source": [
    "## Overview\n",
    "\n",
    "We will be using the three datasets:\n",
    "\n",
    "- <a href=https://graderdata.s3.amazonaws.com/securities.txt target=_blank>securities.csv</a>\n",
    "- <a href=https://graderdata.s3.amazonaws.com/fundamentals.txt>fundamentals.csv</a>\n",
    "- <a href=https://graderdata.s3.amazonaws.com/prices-split-adjusted.txt>split adjusted price.csv</a>\n",
    "\n",
    "They were adapted from the webpage <a href=https://www.kaggle.com/dgawlik/nyse target=_blank>New York Stock Exchange</a>, where the original raw data can be found."
   ]
  },
  {
   "cell_type": "markdown",
   "metadata": {},
   "source": [
    "#### Prob 1.  Loading data\n",
    "\n",
    "The csv file of split_adjusted_price.csv is saved in the url:\n",
    "\n",
    "`url_adjusted = 'https://graderdata.s3.amazonaws.com/prices-split-adjusted.csv'`\n",
    "\n",
    "Load the data into a pandas dataframe, make sure that the `date` column is of a proper type."
   ]
  },
  {
   "cell_type": "code",
   "execution_count": 1,
   "metadata": {
    "collapsed": false
   },
   "outputs": [],
   "source": [
    "import pandas as pd\n",
    "\n",
    "url_adjusted = 'https://graderdata.s3.amazonaws.com/prices-split-adjusted.csv'\n",
    "\n",
    "### Your code here\n",
    "split_adjusted_price = pd.read_csv(url_adjusted)\n",
    "split_adjusted_price['date'] = pd.to_datetime(split_adjusted_price['date'])\n",
    "\n",
    "### An alternative answer\n",
    "split_adjusted_price = pd.read_csv(url_adjusted, parse_dates=[0])"
   ]
  },
  {
   "cell_type": "markdown",
   "metadata": {},
   "source": [
    "#### Prob 2. Missing values\n",
    "\n",
    "The dataset `fundamentals` is loaded for you. Find the columns with any missing value."
   ]
  },
  {
   "cell_type": "code",
   "execution_count": 2,
   "metadata": {
    "collapsed": false
   },
   "outputs": [
    {
     "data": {
      "text/plain": [
       "Cash Ratio                                        299\n",
       "Quick Ratio                                       299\n",
       "Current Ratio                                     299\n",
       "Estimated Shares Outstanding                      219\n",
       "Earnings Per Share                                219\n",
       "For Year                                          173\n",
       "Accounts Receivable                                 0\n",
       "Equity Earnings/Loss Unconsolidated Subsidiary      0\n",
       "Goodwill                                            0\n",
       "Gross Margin                                        0\n",
       "dtype: int64"
      ]
     },
     "execution_count": 2,
     "metadata": {},
     "output_type": "execute_result"
    }
   ],
   "source": [
    "import numpy as np\n",
    "import pandas as pd\n",
    "\n",
    "fundamentals = pd.read_csv('https://graderdata.s3.amazonaws.com/fundamentals.csv', index_col=0)\n",
    "\n",
    "\n",
    "#### Your code here\n",
    "np.sum(fundamentals.isnull(), axis=0).sort_values(ascending=False).head(10)"
   ]
  },
  {
   "cell_type": "markdown",
   "metadata": {},
   "source": [
    "#### Prob 3. Aggregating\n",
    "\n",
    "For the `split_adjusted_price` you loaded in Prob 1., aggregate the daily OHLC into monthly OHLC."
   ]
  },
  {
   "cell_type": "code",
   "execution_count": 29,
   "metadata": {
    "collapsed": false
   },
   "outputs": [],
   "source": [
    "#### Your code here\n",
    "# split_adjusted_price['month']= map(lambda x: x.month, split_adjusted_price['date'])\n",
    "# split_adjusted_price.groupby(['symbol','month']).agg({\n",
    "#         'open':'first', 'close':'last', 'low': np.min, 'high': np.max\n",
    "#     })\n",
    "\n",
    "\n",
    "\n",
    "#### An alternative way\n",
    "A = split_adjusted_price.set_index('date').groupby(['symbol', \n",
    "                                                lambda x: x.month]).agg({\n",
    "        'open':'first', 'close':'last', 'low': np.min, 'high': np.max\n",
    "    }).reset_index(drop=False)\n",
    "\n",
    "A.columns.values[1] = 'month'\n",
    "A = A.iloc[[0,1,2,10,11,12,13,22,23,24,25],:]"
   ]
  },
  {
   "cell_type": "code",
   "execution_count": 30,
   "metadata": {
    "collapsed": false
   },
   "outputs": [
    {
     "name": "stdout",
     "output_type": "stream",
     "text": [
      "   symbol  month        high       close       open        low\n",
      "0       A      1   43.791130   37.650002  22.453504  19.971388\n",
      "1       A      2   43.247498   37.349998  20.143061  20.121603\n",
      "2       A      3   42.740002   39.849998  22.482117  22.482117\n",
      "10      A     11   47.799999   43.980000  24.992848  23.762518\n",
      "11      A     12   46.919998   45.560001  25.500715  23.254650\n",
      "12    AAL      1   56.200001   38.990002   4.840000   4.470000\n",
      "13    AAL      2   52.200001   41.000000   5.430000   5.350000\n",
      "22    AAL     11   49.450001   46.439999  11.880000   3.960000\n",
      "23    AAL     12   54.639999   46.689999  11.340000   4.820000\n",
      "24    AAP      1  163.460007  152.050003  40.700001  38.380001\n",
      "25    AAP      2  165.000000  148.440002  39.549999  39.080002\n"
     ]
    }
   ],
   "source": [
    "import datetime as dt\n",
    "\n",
    "#A['month'] = map(lambda x: dt.date(2017, x, 1).strftime('%Y.%b.%d').split('.')[1], A['month']) \n",
    "print A"
   ]
  },
  {
   "cell_type": "code",
   "execution_count": 4,
   "metadata": {
    "collapsed": false
   },
   "outputs": [
    {
     "data": {
      "text/plain": [
       "<matplotlib.axes._subplots.AxesSubplot at 0x11834d450>"
      ]
     },
     "execution_count": 4,
     "metadata": {},
     "output_type": "execute_result"
    }
   ],
   "source": [
    "import matplotlib\n",
    "import matplotlib.pyplot as plt\n",
    "\n",
    "split_adjusted_price.loc[split_adjusted_price['symbol']=='AAPL'].set_index('date')['close'].plot()"
   ]
  },
  {
   "cell_type": "markdown",
   "metadata": {},
   "source": [
    "#### Prob 4. String operation\n",
    "\n",
    "From the column `Address of Headquarters` in the data frame `securities`, find the state/country/territory where the headquarter of each company locates.\n",
    "\n",
    "**Hint**: Here are some examples of territories that is desired:\n",
    "```\n",
    "St. Paul, Minnesota -->  Minnesota\n",
    "Dublin, Ireland     -->  Ireland\n",
    "Hamilton, Bermuda   -->  Bermuda\n",
    "```\n",
    "This is a simple question testing you in string operations. You might find different notations for the same state (There are some observations with `New York` and other with `NY`), but for this question, you **DO NOT** need to take care of that."
   ]
  },
  {
   "cell_type": "code",
   "execution_count": 5,
   "metadata": {
    "collapsed": false
   },
   "outputs": [
    {
     "data": {
      "text/plain": [
       "0           Minnesota\n",
       "1            Illinois\n",
       "2            Illinois\n",
       "3             Ireland\n",
       "4          California\n",
       "5             Georgia\n",
       "6          California\n",
       "7            Virginia\n",
       "8            Virginia\n",
       "9         Connecticut\n",
       "10      Massachusetts\n",
       "11            Georgia\n",
       "12         California\n",
       "13       Pennsylvania\n",
       "14      Massachusetts\n",
       "15         Washington\n",
       "16          Louisiana\n",
       "17        Connecticut\n",
       "18            Ireland\n",
       "19            Ireland\n",
       "20              Texas\n",
       "21          Wisconsin\n",
       "22           Illinois\n",
       "23         California\n",
       "24         California\n",
       "25           Virginia\n",
       "26         Washington\n",
       "27           Missouri\n",
       "28              Texas\n",
       "29               Ohio\n",
       "            ...      \n",
       "475        California\n",
       "476          New York\n",
       "477           Alabama\n",
       "478          Arkansas\n",
       "479          Illinois\n",
       "480             Texas\n",
       "481     Massachusetts\n",
       "482         Wisconsin\n",
       "483        California\n",
       "484              Ohio\n",
       "485        California\n",
       "486          Colorado\n",
       "487          Virginia\n",
       "488        Washington\n",
       "489          Michigan\n",
       "490             Texas\n",
       "491          Oklahoma\n",
       "492    United Kingdom\n",
       "493        New Jersey\n",
       "494            Nevada\n",
       "495         Minnesota\n",
       "496       Connecticut\n",
       "497        California\n",
       "498           Bermuda\n",
       "499          New York\n",
       "500        California\n",
       "501          Kentucky\n",
       "502           Indiana\n",
       "503              Utah\n",
       "504        New Jersey\n",
       "Name: Address of Headquarters, Length: 505, dtype: object"
      ]
     },
     "execution_count": 5,
     "metadata": {},
     "output_type": "execute_result"
    }
   ],
   "source": [
    "import pandas as pd\n",
    "\n",
    "securities = pd.read_csv('https://graderdata.s3.amazonaws.com/securities.csv')\n",
    "\n",
    "#### Your code here\n",
    "securities['Address of Headquarters'].apply(lambda x: x.split(',')[1].strip())"
   ]
  },
  {
   "cell_type": "markdown",
   "metadata": {},
   "source": [
    "#### Prob 5. Return\n",
    "\n",
    "Define the **daily return** by:\n",
    "\n",
    "$$\\frac{ \\text{close} - \\text{previous close} }{\\text{previous close}}$$.\n",
    "\n",
    "The code below:\n",
    "```\n",
    "tmp = split_adjusted_price[['date', 'symbol', 'close']].sort_values(['symbol', 'date'])\n",
    "price = tmp.iloc[1:]\n",
    "price = price.assign(prev_close= tmp['close'].iloc[:-1].values)\n",
    "price = price.assign(prev_symbol= tmp['symbol'].iloc[:-1].values)\n",
    "```\n",
    "create a new data frame `price`, of which each row contains the previous close price. \n",
    "\n",
    "\n",
    "Notice that we include the column `prev_symbol` (which is the symbol of the previous price), to deal with the case when the previous price is for a different symbol (see the third row below):\n",
    "\n",
    "```\n",
    "             date symbol      close  prev_close prev_symbol\n",
    "850752 2016-12-29   XLNX  60.740002   60.630001        XLNX\n",
    "851252 2016-12-30   XLNX  60.369999   60.740002        XLNX\n",
    "710    2010-01-04    XOM  69.150002   60.369999        XLNX\n",
    "1178   2010-01-05    XOM  69.419998   69.150002         XOM\n",
    "1646   2010-01-06    XOM  70.019997   69.419998         XOM\n",
    "```\n",
    "\n",
    "Create a new column, `daily_return `. The expected result is:\n",
    "\n",
    "```\n",
    "             date symbol  daily_return\n",
    "718    2010-01-05      A     -0.010863\n",
    "1186   2010-01-06      A     -0.003553\n",
    "1654   2010-01-07      A     -0.001297\n",
    "...           ...    ...           ...\n",
    "850261 2016-12-28    ZTS     -0.005212\n",
    "850761 2016-12-29    ZTS      0.003368\n",
    "851261 2016-12-30    ZTS     -0.001678\n",
    "```\n",
    "\n",
    "As you might suspect, the indexes are irrelevant here."
   ]
  },
  {
   "cell_type": "code",
   "execution_count": 6,
   "metadata": {
    "collapsed": false
   },
   "outputs": [],
   "source": [
    "#### Preparing the price data frame\n",
    "\n",
    "tmp = split_adjusted_price[['date', 'symbol', 'close']].sort_values(['symbol', 'date'])\n",
    "price = tmp.iloc[1:]\n",
    "price = price.assign(prev_close= tmp['close'].iloc[:-1].values)\n",
    "price = price.assign(prev_symbol= tmp['symbol'].iloc[:-1].values)\n",
    "\n",
    "#### Your code here\n",
    "\n",
    "price.loc[price['symbol']==price['prev_symbol']].\\\n",
    "assign(daily_return=price['close']/price['prev_close']-1)[['date', 'symbol', 'daily_return']]\n",
    "\n",
    "\n",
    "#### Alternative\n",
    "\n",
    "price.loc[price['symbol']==price['prev_symbol']]\n",
    "price['daily_return'] = (price['close']-price['prev_close'])/price['prev_close']"
   ]
  },
  {
   "cell_type": "markdown",
   "metadata": {},
   "source": [
    "#### Prob 6. Merge\n",
    "\n",
    "Inner join `fundamentals` and `securities` by the ticker symbols. Save the result as an variable, you will need it for the latter problem."
   ]
  },
  {
   "cell_type": "code",
   "execution_count": 7,
   "metadata": {
    "collapsed": false
   },
   "outputs": [],
   "source": [
    "#### Your code here\n",
    "\n",
    "Ans = pd.merge(fundamentals, securities,\n",
    "               left_on = 'Ticker Symbol',\n",
    "               right_on= 'Ticker symbol')"
   ]
  },
  {
   "cell_type": "markdown",
   "metadata": {},
   "source": [
    "#### Prob 7. Grouping and aggregation\n",
    "\n",
    "From the merged data frame from Prob 6., find the `GICS Sector` with the highest average `After Tax ROE`."
   ]
  },
  {
   "cell_type": "code",
   "execution_count": 10,
   "metadata": {
    "collapsed": false
   },
   "outputs": [
    {
     "data": {
      "text/plain": [
       "<matplotlib.axes._subplots.AxesSubplot at 0x1185a5890>"
      ]
     },
     "execution_count": 10,
     "metadata": {},
     "output_type": "execute_result"
    },
    {
     "data": {
      "image/png": "[encoded data removed]",
      "text/plain": [
       "<matplotlib.figure.Figure at 0x1185b3a90>"
      ]
     },
     "metadata": {},
     "output_type": "display_data"
    }
   ],
   "source": [
    "#### Your code here\n",
    "%matplotlib inline\n",
    "\n",
    "Ans.groupby('GICS Sector').agg({'After Tax ROE': np.mean}).sort_values('After Tax ROE', ascending=False).plot(kind='bar')"
   ]
  },
  {
   "cell_type": "code",
   "execution_count": null,
   "metadata": {
    "collapsed": true
   },
   "outputs": [],
   "source": []
  }
 ],
 "metadata": {
  "anaconda-cloud": {},
  "kernelspec": {
   "display_name": "Python [Root]",
   "language": "python",
   "name": "Python [Root]"
  },
  "language_info": {
   "codemirror_mode": {
    "name": "ipython",
    "version": 2
   },
   "file_extension": ".py",
   "mimetype": "text/x-python",
   "name": "python",
   "nbconvert_exporter": "python",
   "pygments_lexer": "ipython2",
   "version": "2.7.11"
  }
 },
 "nbformat": 4,
 "nbformat_minor": 0
}
